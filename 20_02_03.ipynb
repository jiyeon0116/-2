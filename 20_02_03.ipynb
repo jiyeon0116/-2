{
  "nbformat": 4,
  "nbformat_minor": 0,
  "metadata": {
    "colab": {
      "name": "20/02/03.ipynb",
      "provenance": [],
      "collapsed_sections": [],
      "include_colab_link": true
    },
    "kernelspec": {
      "name": "python3",
      "display_name": "Python 3"
    }
  },
  "cells": [
    {
      "cell_type": "markdown",
      "metadata": {
        "id": "view-in-github",
        "colab_type": "text"
      },
      "source": [
        "<a href=\"https://colab.research.google.com/github/jiyeon0116/Practice2/blob/master/20_02_03.ipynb\" target=\"_parent\"><img src=\"https://colab.research.google.com/assets/colab-badge.svg\" alt=\"Open In Colab\"/></a>"
      ]
    },
    {
      "cell_type": "code",
      "metadata": {
        "id": "Ssl0IfFGB2vp",
        "colab_type": "code",
        "outputId": "27cf3e17-8011-43ba-a36a-d38733623664",
        "colab": {
          "base_uri": "https://localhost:8080/",
          "height": 34
        }
      },
      "source": [
        "a = [18,55,33,48,62,79,50,27,69,24] \n",
        "b= 0\n",
        "\n",
        "for i in a:\n",
        "  b += i\n",
        "print(b)"
      ],
      "execution_count": 0,
      "outputs": [
        {
          "output_type": "stream",
          "text": [
            "465\n"
          ],
          "name": "stdout"
        }
      ]
    },
    {
      "cell_type": "code",
      "metadata": {
        "id": "2a2sE56mM2ua",
        "colab_type": "code",
        "outputId": "54c430b3-4623-4739-faff-70077c87ec14",
        "colab": {
          "base_uri": "https://localhost:8080/",
          "height": 34
        }
      },
      "source": [
        "a = [18,55,33,48,62,79,50,27,69,24] \n",
        "b= 0\n",
        "\n",
        "for i in range(len(a)):\n",
        "  b += a[i]\n",
        "print(b)  "
      ],
      "execution_count": 0,
      "outputs": [
        {
          "output_type": "stream",
          "text": [
            "465\n"
          ],
          "name": "stdout"
        }
      ]
    },
    {
      "cell_type": "code",
      "metadata": {
        "id": "QBMs1u_5OIV5",
        "colab_type": "code",
        "outputId": "388af9da-7f17-4514-f9da-49abf13f6c72",
        "colab": {
          "base_uri": "https://localhost:8080/",
          "height": 34
        }
      },
      "source": [
        "a = [18,55,33,48,62,79,50,27,69,24] \n",
        "b= 0\n",
        "i=0\n",
        "\n",
        "while(i<len(a)): #i가 리스트 끝까지 돌때까지 반복\n",
        "  b += a[i]\n",
        "  i+=1\n",
        "print(b)  "
      ],
      "execution_count": 0,
      "outputs": [
        {
          "output_type": "stream",
          "text": [
            "465\n"
          ],
          "name": "stdout"
        }
      ]
    },
    {
      "cell_type": "code",
      "metadata": {
        "id": "gB_tU06KHo9d",
        "colab_type": "code",
        "colab": {}
      },
      "source": [
        "a = [18,55,33,48,62,79,50,27,69,24] \n",
        "b= 0\n",
        "i = 11\n",
        "\n",
        "if i<len(a):\n",
        "  print(\"sucesses\")"
      ],
      "execution_count": 0,
      "outputs": []
    },
    {
      "cell_type": "code",
      "metadata": {
        "id": "5MkXWtDJI7WA",
        "colab_type": "code",
        "colab": {}
      },
      "source": [
        "  b= b+a[i]"
      ],
      "execution_count": 0,
      "outputs": []
    },
    {
      "cell_type": "code",
      "metadata": {
        "id": "TWVuJkKJGeng",
        "colab_type": "code",
        "outputId": "1b374bb4-6cc3-427d-a0c5-0ccc40f3d7c0",
        "colab": {
          "base_uri": "https://localhost:8080/",
          "height": 52
        }
      },
      "source": [
        "k = [8,9,0,9,8]\n",
        "a=[] \n",
        "m  = max(k)\n",
        "c = 1\n",
        "\n",
        "while(c > 0):\n",
        "  b = k.index(m)\n",
        "  a.append(b+1)\n",
        "  k[b] = -1 #가장 작은수가 될수도 있고 나올수가 없기 때문에 -를 넣는다 알겠자?\n",
        "  c = k.count(m)\n",
        "\n",
        "print(k)\n",
        "print(a)"
      ],
      "execution_count": 0,
      "outputs": [
        {
          "output_type": "stream",
          "text": [
            "[8, -1, 0, -1, 8]\n",
            "[2, 4]\n"
          ],
          "name": "stdout"
        }
      ]
    }
  ]
}