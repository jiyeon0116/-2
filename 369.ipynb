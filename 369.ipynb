{
  "nbformat": 4,
  "nbformat_minor": 0,
  "metadata": {
    "colab": {
      "name": "369.ipynb",
      "provenance": [],
      "collapsed_sections": [],
      "authorship_tag": "ABX9TyNuIEyEg3Sbzl1qJaUfvz+D",
      "include_colab_link": true
    },
    "kernelspec": {
      "name": "python3",
      "display_name": "Python 3"
    }
  },
  "cells": [
    {
      "cell_type": "markdown",
      "metadata": {
        "id": "view-in-github",
        "colab_type": "text"
      },
      "source": [
        "<a href=\"https://colab.research.google.com/github/jiyeon0116/Practice2/blob/master/369.ipynb\" target=\"_parent\"><img src=\"https://colab.research.google.com/assets/colab-badge.svg\" alt=\"Open In Colab\"/></a>"
      ]
    },
    {
      "cell_type": "code",
      "metadata": {
        "id": "WdKKwcjB8i2v",
        "colab_type": "code",
        "outputId": "c94cb117-de56-4998-c9ae-af3f3bbd9f24",
        "colab": {
          "base_uri": "https://localhost:8080/",
          "height": 52
        }
      },
      "source": [
        "sum = int(input(\"정수를 입력하세요: \"))\n",
        "b = 0\n",
        "\n",
        "while (sum != -1):\n",
        "  for i in range(1,sum+1):\n",
        "    b = str(i).count(\"3\") + str(i).count(\"6\") + str(i).count(\"9\")\n",
        "    if b>0:\n",
        "      print(\"짝\"*b)\n",
        "    else:\n",
        "      print(i)\n",
        "  sum = int(input(\"정수를 입력하세요: \"))\n",
        "print(\"종료오오\")\n",
        "  "
      ],
      "execution_count": 0,
      "outputs": [
        {
          "output_type": "stream",
          "text": [
            "정수를 입력하세요: -1\n",
            "종료오오\n"
          ],
          "name": "stdout"
        }
      ]
    },
    {
      "cell_type": "markdown",
      "metadata": {
        "id": "RrMF2UGoaNw5",
        "colab_type": "text"
      },
      "source": [
        "게임개발자\n",
        "\n",
        "\n",
        "\n",
        "\n",
        "소프트웨어 개발자\n",
        "공공소프트웨어\n",
        "\n",
        "서버관리자\n",
        "네트워크관리자\n",
        "\n",
        "데이터\n",
        "데이터사이언티스\n",
        "데이터처리\n",
        "의료, 게임\n"
      ]
    },
    {
      "cell_type": "code",
      "metadata": {
        "id": "RXj9oJ1kpdGg",
        "colab_type": "code",
        "outputId": "10fdac92-7a38-4a85-ef51-54c6c14a398d",
        "colab": {
          "base_uri": "https://localhost:8080/",
          "height": 34
        }
      },
      "source": [
        "a = \"369\"\n",
        "b = 0\n",
        "b += a.count(\"6\")\n",
        "b += a.count(\"3\")\n",
        "b += a.count(\"9\")\n",
        "\n",
        "\"a\"*b"
      ],
      "execution_count": 0,
      "outputs": [
        {
          "output_type": "execute_result",
          "data": {
            "text/plain": [
              "'aaa'"
            ]
          },
          "metadata": {
            "tags": []
          },
          "execution_count": 22
        }
      ]
    },
    {
      "cell_type": "markdown",
      "metadata": {
        "id": "aVieH7_4b1UO",
        "colab_type": "text"
      },
      "source": [
        "연구원"
      ]
    }
  ]
}