{
  "nbformat": 4,
  "nbformat_minor": 0,
  "metadata": {
    "colab": {
      "name": "수포자의 모의고사",
      "provenance": [],
      "collapsed_sections": [],
      "include_colab_link": true
    },
    "kernelspec": {
      "name": "python3",
      "display_name": "Python 3"
    }
  },
  "cells": [
    {
      "cell_type": "markdown",
      "metadata": {
        "id": "view-in-github",
        "colab_type": "text"
      },
      "source": [
        "<a href=\"https://colab.research.google.com/github/jiyeon0116/Practice2/blob/master/%EC%88%98%ED%8F%AC%EC%9E%90%EC%9D%98_%EB%AA%A8%EC%9D%98%EA%B3%A0%EC%82%AC.ipynb\" target=\"_parent\"><img src=\"https://colab.research.google.com/assets/colab-badge.svg\" alt=\"Open In Colab\"/></a>"
      ]
    },
    {
      "cell_type": "markdown",
      "metadata": {
        "id": "FwdEcF404Fw6",
        "colab_type": "text"
      },
      "source": [
        "#문제\n",
        "\n",
        "수포자 3명이 모의고사에서 수학 문제를 찍는데\n",
        "\n",
        "1번 수포자는 1, 2, 3, 4, 5, 1, 2, 3, 4, 5... 와 같이 찍고\n",
        "\n",
        "2번 수포자는 2, 1, 2, 3, 2, 4, 2, 5, 2, 1, 2, 3, 2, 4, 2, 5 ...와 같이 찍고\n",
        "\n",
        "3번 수포자는 3, 3, 1, 1, 2, 2, 4, 4, 5, 5, 3, 3, 1, 1, 2, 2, 4, 4, 5, 5 ... 와 같이 찍는다.\n",
        "\n",
        "정답 answers가 주어졌을때 문제를 가장 많이 맞힌 사람이 누구인지 retrun하는 solution 작성"
      ]
    },
    {
      "cell_type": "markdown",
      "metadata": {
        "id": "gAYKWwQn6U1Z",
        "colab_type": "text"
      },
      "source": [
        "#제한사항\n",
        "\n",
        "1.시험 문제의 수 최대 10,000\n",
        "\n",
        "2.문제 정답은 1,2,3,4,5중 하나이다.\n",
        "\n",
        "3.가장 높은 점수를 받은 사람이 여럿일 경우 return 하는 값을 오름차순 정렬"
      ]
    },
    {
      "cell_type": "code",
      "metadata": {
        "id": "zfpH6MsI4Hml",
        "colab_type": "code",
        "outputId": "deceec62-18b5-4f3e-e505-a946e5827cec",
        "colab": {
          "base_uri": "https://localhost:8080/",
          "height": 52
        }
      },
      "source": [
        "def solution(answers):\n",
        "  #답안 작성란\n",
        "  su1 = [1, 2, 3, 4, 5]\n",
        "\n",
        "  su2 = [2,1,2,3,2,4,2,5]\n",
        "\n",
        "  su3 = [3, 3, 1, 1, 2, 2, 4, 4, 5, 5]\n",
        "\n",
        "  sufo = [su1, su2, su3]  # sufo =[[1, 2, 3, 4, 5],[2,1,2,3,2,4,2,5], [3, 3, 1, 1, 2, 2, 4, 4, 5, 5]]\n",
        "  scores = [0, 0, 0]\n",
        "\n",
        "  final = []\n",
        "  c= 1\n",
        "\n",
        "  for i in range(len(answers)): #j가 들어와서 첫번째  요소만 가르쳐주게 되었음!\n",
        "    for j in range(len(sufo)): #수포와 스코어스를 같이 나타나주는거고\n",
        "      if answers[i] == sufo[j][i%len(sufo[j])]:\n",
        "        scores[j] += 1\n",
        "  print(scores)\n",
        "\n",
        "  m = max(scores)\n",
        "\n",
        "  while(c>0):\n",
        "    b = scores.index(m)\n",
        "    final.append(b+1)\n",
        "    scores[b] = -1\n",
        "    c = scores.count(m)\n",
        "\n",
        "  return final\n",
        "\n",
        "\n",
        "\n",
        "\n",
        "\n",
        "\n",
        "#test case 1\n",
        "answers = [1,2,3,4,5]\n",
        "print(solution(answers))\n",
        "#test case 2\n",
        "answers = [1,3,2,4,2]\n",
        "print(solution(answers))\n"
      ],
      "execution_count": 0,
      "outputs": [
        {
          "output_type": "stream",
          "text": [
            "[1]\n",
            "[1, 2, 3]\n"
          ],
          "name": "stdout"
        }
      ]
    },
    {
      "cell_type": "code",
      "metadata": {
        "id": "H0V2JN66HhTa",
        "colab_type": "code",
        "outputId": "e020c3a7-0ebc-4e53-ebc2-0534fc45a5d0",
        "colab": {
          "base_uri": "https://localhost:8080/",
          "height": 52
        }
      },
      "source": [
        "#1번  [1,2,3,4,5] 같은 패턴은 계속 출력하는 경우가 많으니 %계산은 익혀두자!\n",
        "answer = [4,3,2,1,1,2,3,4,5,2,1] #여기서 포문이 두개면 요소를  다 비교한다\n",
        "\n",
        "su1 = [1, 2, 3, 4, 5]\n",
        "\n",
        "su2 = [2,1,2,3,2,4,2,5]\n",
        "\n",
        "su3 = [3, 3, 1, 1, 2, 2, 4, 4, 5, 5]\n",
        "\n",
        "sufo = [su1, su2, su3]  # sufo =[[1, 2, 3, 4, 5],[2,1,2,3,2,4,2,5], [3, 3, 1, 1, 2, 2, 4, 4, 5, 5]]\n",
        "scores = [0, 0, 0]\n",
        "\n",
        "final = []\n",
        "c= 1\n",
        "\n",
        "for i in range(len(answer)): #j가 들어와서 첫번째  요소만 가르쳐주게 되었음!\n",
        "  for j in range(len(sufo)): #수포와 스코어스를 같이 나타나주는거고\n",
        "    if answer[i] == sufo[j][i%len(sufo[j])]:\n",
        "     scores[j] += 1\n",
        "print(scores)\n",
        "\n",
        "m = max(scores)\n",
        "\n",
        "while(c>0):\n",
        "  b = scores.index(m)\n",
        "  final.append(b+1)\n",
        "  scores[b] = -1\n",
        "  c = scores.count(m)\n",
        "\n",
        "print(final)  "
      ],
      "execution_count": 0,
      "outputs": [
        {
          "output_type": "stream",
          "text": [
            "[1, 1, 5]\n",
            "[3]\n"
          ],
          "name": "stdout"
        }
      ]
    },
    {
      "cell_type": "code",
      "metadata": {
        "id": "guII7DUkHhzy",
        "colab_type": "code",
        "colab": {}
      },
      "source": [
        ""
      ],
      "execution_count": 0,
      "outputs": []
    },
    {
      "cell_type": "code",
      "metadata": {
        "id": "hEBa8Lg6Hh6E",
        "colab_type": "code",
        "colab": {}
      },
      "source": [
        ""
      ],
      "execution_count": 0,
      "outputs": []
    },
    {
      "cell_type": "markdown",
      "metadata": {
        "id": "_ivgMFjE48nT",
        "colab_type": "text"
      },
      "source": [
        "#결과\n",
        "1.[1]\n",
        "\n",
        "2.[1,2,3]\n",
        "\n"
      ]
    }
  ]
}