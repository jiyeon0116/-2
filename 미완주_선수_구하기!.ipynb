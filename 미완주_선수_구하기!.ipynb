{
  "nbformat": 4,
  "nbformat_minor": 0,
  "metadata": {
    "colab": {
      "name": "미완주 선수 구하기!",
      "provenance": [],
      "collapsed_sections": [],
      "include_colab_link": true
    },
    "kernelspec": {
      "name": "python3",
      "display_name": "Python 3"
    }
  },
  "cells": [
    {
      "cell_type": "markdown",
      "metadata": {
        "id": "view-in-github",
        "colab_type": "text"
      },
      "source": [
        "<a href=\"https://colab.research.google.com/github/jiyeon0116/Practice2/blob/master/%EB%AF%B8%EC%99%84%EC%A3%BC_%EC%84%A0%EC%88%98_%EA%B5%AC%ED%95%98%EA%B8%B0!.ipynb\" target=\"_parent\"><img src=\"https://colab.research.google.com/assets/colab-badge.svg\" alt=\"Open In Colab\"/></a>"
      ]
    },
    {
      "cell_type": "markdown",
      "metadata": {
        "id": "FwdEcF404Fw6",
        "colab_type": "text"
      },
      "source": [
        "#문제\n",
        "\n",
        "마라톤에 참여한 선수들의 이름이 담긴 배열 participant와 \n",
        "\n",
        "완주한 선수들의 이름이 담긴 배열 completion이 주어질 때, \n",
        "\n",
        "완주하지 못한 선수의 이름을 return 하도록 solution 함수 작성하기!"
      ]
    },
    {
      "cell_type": "markdown",
      "metadata": {
        "id": "gAYKWwQn6U1Z",
        "colab_type": "text"
      },
      "source": [
        "#제한사항\n",
        "\n",
        "1.참여 선수의 수 x (1<= x <= 100,000) / 데이터 커지는거 방지~\n",
        "\n",
        "2.completion < participant\n",
        "\n",
        "3.참가자 이름의 길이 y (1<= y <= 20)\n",
        "  (이름은 알파벳 소문자로만 이루어져 있다.) / 대문자 있으면 다른 이름~\n",
        "  \n",
        "4.동명이인이 있을 수 있다."
      ]
    },
    {
      "cell_type": "code",
      "metadata": {
        "id": "zfpH6MsI4Hml",
        "colab_type": "code",
        "outputId": "8a83bb5b-e3c7-4c5f-89a2-dce0a0855973",
        "colab": {
          "base_uri": "https://localhost:8080/",
          "height": 70
        }
      },
      "source": [
        "def solution(participant, completion):\n",
        "  answer = participant[:] # 참조변수니까\n",
        "  #답안 작성란\n",
        "\n",
        "  for i in participant:\n",
        "    for j in completion:\n",
        "      if i == j:\n",
        "        answer.remove(i)\n",
        "        completion.remove(j)\n",
        "  \n",
        "  return answer\n",
        "\n",
        "\n",
        "\n",
        "\n",
        "\n",
        "\n",
        "#test case 1\n",
        "participant = [\"leo\", \"kiki\", \"eden\"]\n",
        "completion = [\"eden\", \"kiki\"]\n",
        "print(solution(participant, completion))\n",
        "#test case 2\n",
        "participant = [\"marina\", \"josipa\", \"nikola\", \"vinko\", \"filipa\"]\n",
        "completion = [\"josipa\", \"filipa\", \"marina\", \"nikola\"]\n",
        "print(solution(participant, completion))\n",
        "#test case 3\n",
        "participant = [\"mislav\", \"stanko\", \"mislav\", \"ana\"]\n",
        "completion = [\"mislav\", \"ana\"]\n",
        "print(solution(participant, completion))"
      ],
      "execution_count": 0,
      "outputs": [
        {
          "output_type": "stream",
          "text": [
            "['leo']\n",
            "['vinko']\n",
            "['stanko', 'mislav']\n"
          ],
          "name": "stdout"
        }
      ]
    },
    {
      "cell_type": "markdown",
      "metadata": {
        "id": "_ivgMFjE48nT",
        "colab_type": "text"
      },
      "source": [
        "#결과\n",
        "\n",
        "1.\"leo\"\n",
        "\n",
        "2.\"vinko\"\n",
        "\n",
        "3.\"mislav\",\"stanko\"\n"
      ]
    }
  ]
}