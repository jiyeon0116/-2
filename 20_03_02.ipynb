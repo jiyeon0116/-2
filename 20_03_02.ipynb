{
  "nbformat": 4,
  "nbformat_minor": 0,
  "metadata": {
    "colab": {
      "name": "20.03.02.ipynb",
      "provenance": [],
      "collapsed_sections": [],
      "include_colab_link": true
    },
    "kernelspec": {
      "name": "python3",
      "display_name": "Python 3"
    }
  },
  "cells": [
    {
      "cell_type": "markdown",
      "metadata": {
        "id": "view-in-github",
        "colab_type": "text"
      },
      "source": [
        "<a href=\"https://colab.research.google.com/github/jiyeon0116/Practice2/blob/master/20_03_02.ipynb\" target=\"_parent\"><img src=\"https://colab.research.google.com/assets/colab-badge.svg\" alt=\"Open In Colab\"/></a>"
      ]
    },
    {
      "cell_type": "code",
      "metadata": {
        "id": "d1oQfCPaDxt0",
        "colab_type": "code",
        "outputId": "1f1df92c-158a-4ae3-801e-b2ef1b5b98fb",
        "colab": {
          "base_uri": "https://localhost:8080/",
          "height": 703
        }
      },
      "source": [
        "name = input(\"이름을 입력하세요: \")\n",
        "sum = int(input(\"정수를 입력하세요: \"))\n",
        "b = 0\n",
        "c = 0\n",
        "s = 0\n",
        "\n",
        "while (sum != -1):\n",
        "  for i in range(1,sum+1):\n",
        "    if c== 0:\n",
        "      s = name\n",
        "      c = 1\n",
        "    else:\n",
        "      s = \"com\"\n",
        "      c = 0 \n",
        "    b = str(i).count(\"3\") + str(i).count(\"6\") + str(i).count(\"9\")\n",
        "    if b > 0:\n",
        "      print(s + \": \"+ \"짝\"*b)\n",
        "    else:\n",
        "      print(s + \":\" + str(i)) #i 는 int인데 스티링 합치려고 하니까 오류남. 그래서 i를 스트링으로 바꿔줘야함\n",
        "  sum = int(input(\"정수를 입력하세요: \"))\n",
        "print(\"종료\")"
      ],
      "execution_count": 48,
      "outputs": [
        {
          "output_type": "stream",
          "text": [
            "이름을 입력하세요: jj\n",
            "정수를 입력하세요: 35\n",
            "jj:1\n",
            "com:2\n",
            "jj: 짝\n",
            "com:4\n",
            "jj:5\n",
            "com: 짝\n",
            "jj:7\n",
            "com:8\n",
            "jj: 짝\n",
            "com:10\n",
            "jj:11\n",
            "com:12\n",
            "jj: 짝\n",
            "com:14\n",
            "jj:15\n",
            "com: 짝\n",
            "jj:17\n",
            "com:18\n",
            "jj: 짝\n",
            "com:20\n",
            "jj:21\n",
            "com:22\n",
            "jj: 짝\n",
            "com:24\n",
            "jj:25\n",
            "com: 짝\n",
            "jj:27\n",
            "com:28\n",
            "jj: 짝\n",
            "com: 짝\n",
            "jj: 짝\n",
            "com: 짝\n",
            "jj: 짝짝\n",
            "com: 짝\n",
            "jj: 짝\n",
            "정수를 입력하세요: -1\n",
            "종료\n"
          ],
          "name": "stdout"
        }
      ]
    },
    {
      "cell_type": "code",
      "metadata": {
        "id": "IJ27V4f8J2O2",
        "colab_type": "code",
        "outputId": "303106a4-d025-41cd-ee31-2881e52a6738",
        "colab": {
          "base_uri": "https://localhost:8080/",
          "height": 105
        }
      },
      "source": [
        "a = [\"jj\",\"com\"]\n",
        "b = 0\n",
        "\n",
        "repeat = int(input(\"반복 횟수:\"))\n",
        "for i in range(repeat):\n",
        "  if b == 0:\n",
        "    print(\"jj\")\n",
        "    b=1\n",
        "  else:\n",
        "    print(\"com\")\n",
        "    b=0\n",
        "    "
      ],
      "execution_count": 0,
      "outputs": [
        {
          "output_type": "stream",
          "text": [
            "반복 횟수:4\n",
            "jj\n",
            "com\n",
            "jj\n",
            "com\n"
          ],
          "name": "stdout"
        }
      ]
    }
  ]
}