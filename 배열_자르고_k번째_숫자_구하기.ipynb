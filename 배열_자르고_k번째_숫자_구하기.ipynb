{
  "nbformat": 4,
  "nbformat_minor": 0,
  "metadata": {
    "colab": {
      "name": "배열 자르고 k번째 숫자 구하기",
      "provenance": [],
      "collapsed_sections": [],
      "include_colab_link": true
    },
    "kernelspec": {
      "name": "python3",
      "display_name": "Python 3"
    }
  },
  "cells": [
    {
      "cell_type": "markdown",
      "metadata": {
        "id": "view-in-github",
        "colab_type": "text"
      },
      "source": [
        "<a href=\"https://colab.research.google.com/github/jiyeon0116/Practice2/blob/master/%EB%B0%B0%EC%97%B4_%EC%9E%90%EB%A5%B4%EA%B3%A0_k%EB%B2%88%EC%A7%B8_%EC%88%AB%EC%9E%90_%EA%B5%AC%ED%95%98%EA%B8%B0.ipynb\" target=\"_parent\"><img src=\"https://colab.research.google.com/assets/colab-badge.svg\" alt=\"Open In Colab\"/></a>"
      ]
    },
    {
      "cell_type": "markdown",
      "metadata": {
        "id": "FwdEcF404Fw6",
        "colab_type": "text"
      },
      "source": [
        "#문제\n",
        "\n",
        "배열 array와, [i,j,k]를 원소로 가진 2차원 배열 commands가 매개변수로 주어질때 \n",
        "\n",
        "array의 i번째 숫자부터 j번째 숫자까지 자르고 정렬했을때, k번째에 있는 숫자 구하기"
      ]
    },
    {
      "cell_type": "markdown",
      "metadata": {
        "id": "gAYKWwQn6U1Z",
        "colab_type": "text"
      },
      "source": [
        "#제한사항\n",
        "\n",
        "1.array의 길이 x (1<= x <= 100)\n",
        "\n",
        "2.array의 각 원소의 크기 y ( 1<= y <= 100)\n",
        "\n",
        "3.commands의 길이 t (1<= t <= 50)\n",
        "  \n",
        "4.commands의 각 원소의 길이 3"
      ]
    },
    {
      "cell_type": "markdown",
      "metadata": {
        "colab_type": "text",
        "id": "oThdbO8tDz0K"
      },
      "source": [
        "#예시\n",
        "array = [2,6,1,8,3,5]\n",
        "\n",
        "commands = [[2,5,2]]\n",
        "\n",
        "1.array의 2번째 부터 5번째 까지 자른 뒤[6,1,8,3]\n",
        "\n",
        "2.1에서 나온 배열을 정렬 [1,3,6,8]\n",
        "\n",
        "3.2배열에서의 2번째 숫자 [3]"
      ]
    },
    {
      "cell_type": "code",
      "metadata": {
        "colab_type": "code",
        "outputId": "ea9555e9-c960-4692-9289-0d5bf0ddf673",
        "id": "Q9dTukUKDzip",
        "colab": {
          "base_uri": "https://localhost:8080/",
          "height": 34
        }
      },
      "source": [
        "def solution(array, commands):\n",
        "  answer = []\n",
        "  #답안 작성란\n",
        "  for command in commands:\n",
        "    temp = array[command[0]-1:command[1]]\n",
        "    temp.sort()\n",
        "    answer.append(temp[command[2]-1])\n",
        "  return answer\n",
        "\n",
        "\n",
        "\n",
        "\n",
        "\n",
        "\n",
        "#test case 1\n",
        "answers = [1, 5, 2, 6, 3, 7, 4]\n",
        "commands = [[2, 5, 3], [4, 4, 1], [1, 7, 3]]\n",
        "print(solution(answers,commands)) #answers가 array에 들어가 있고 둘은 같은 주소를 가리킴"
      ],
      "execution_count": 0,
      "outputs": [
        {
          "output_type": "stream",
          "text": [
            "[5, 6, 3]\n"
          ],
          "name": "stdout"
        }
      ]
    },
    {
      "cell_type": "code",
      "metadata": {
        "id": "B0oGF6qmawyJ",
        "colab_type": "code",
        "outputId": "d98e125b-39b4-4b16-f6d5-65c16c14aaf8",
        "colab": {
          "base_uri": "https://localhost:8080/",
          "height": 34
        }
      },
      "source": [
        "sum((3,5,7))"
      ],
      "execution_count": 0,
      "outputs": [
        {
          "output_type": "execute_result",
          "data": {
            "text/plain": [
              "15"
            ]
          },
          "metadata": {
            "tags": []
          },
          "execution_count": 15
        }
      ]
    },
    {
      "cell_type": "markdown",
      "metadata": {
        "id": "_ivgMFjE48nT",
        "colab_type": "text"
      },
      "source": [
        "#결과\n",
        "\n",
        "[5, 6, 3]\n"
      ]
    }
  ]
}